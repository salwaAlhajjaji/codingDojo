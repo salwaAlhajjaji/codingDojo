{
 "cells": [
  {
   "cell_type": "code",
   "execution_count": 27,
   "metadata": {},
   "outputs": [],
   "source": [
    "import hashlib\n",
    "import json\n",
    "from time import time\n",
    "from collections import OrderedDict"
   ]
  },
  {
   "cell_type": "code",
   "execution_count": 28,
   "metadata": {},
   "outputs": [],
   "source": [
    "class Printed:\n",
    "    \"\"\"A base class\"\"\"\n",
    "    def __repr__(self):\n",
    "        return str(self.__dict__)"
   ]
  },
  {
   "cell_type": "code",
   "execution_count": 29,
   "metadata": {},
   "outputs": [],
   "source": [
    "class Block(Printed):\n",
    "    \"\"\"When a block is added to the chain...\"\"\"\n",
    "    def __init__(self, index, previousHash, transactions, proof, time=time()):\n",
    "        self.index = index\n",
    "        self.previousHash = previousHash\n",
    "        self.timestamp = time\n",
    "        self.transactions = transactions\n",
    "        self.proof = proof"
   ]
  },
  {
   "cell_type": "code",
   "execution_count": 30,
   "metadata": {},
   "outputs": [],
   "source": [
    "class Transaction(Printed):\n",
    "    \"\"\"When a transaction is added to a block\"\"\"\n",
    "    def __init__(self, sender, receiver, amount):\n",
    "        self.sender = sender\n",
    "        self.receiver = receiver\n",
    "        self.amount = amount\n",
    "\n",
    "    def to_ordered_dict(self):\n",
    "        \"\"\"Converts into dict\"\"\"\n",
    "        return OrderedDict([('sender', self.sender), ('receiver', self.receiver), ('amount', self.amount)])\n"
   ]
  },
  {
   "cell_type": "code",
   "execution_count": 31,
   "metadata": {},
   "outputs": [],
   "source": [
    "def hashString(string):\n",
    "    return hashlib.sha256(string).hexdigest()\n",
    "\n",
    "def hashBlock(block):\n",
    "    hashingBlock = block.__dict__.copy()\n",
    "    hashingBlock['transactions'] = [tx.to_ordered_dict() for tx in hashingBlock['transactions']]\n",
    "    return hashString(json.dumps(hashingBlock, sort_keys=True).encode())"
   ]
  },
  {
   "cell_type": "code",
   "execution_count": 32,
   "metadata": {},
   "outputs": [],
   "source": [
    "tx = Transaction('xyz','tou',4)"
   ]
  },
  {
   "cell_type": "code",
   "execution_count": 33,
   "metadata": {},
   "outputs": [
    {
     "data": {
      "text/plain": [
       "{'sender': 'xyz', 'receiver': 'tou', 'amount': 4}"
      ]
     },
     "execution_count": 33,
     "metadata": {},
     "output_type": "execute_result"
    }
   ],
   "source": [
    "tx"
   ]
  },
  {
   "cell_type": "code",
   "execution_count": 34,
   "metadata": {},
   "outputs": [],
   "source": [
    "fblock = Block(0,'00',[tx],0)"
   ]
  },
  {
   "cell_type": "code",
   "execution_count": 35,
   "metadata": {},
   "outputs": [
    {
     "data": {
      "text/plain": [
       "{'index': 0, 'previousHash': '00', 'timestamp': 1613241245.108352, 'transactions': [{'sender': 'xyz', 'receiver': 'tou', 'amount': 4}], 'proof': 0}"
      ]
     },
     "execution_count": 35,
     "metadata": {},
     "output_type": "execute_result"
    }
   ],
   "source": [
    "fblock"
   ]
  },
  {
   "cell_type": "code",
   "execution_count": 36,
   "metadata": {},
   "outputs": [
    {
     "data": {
      "text/plain": [
       "'5856b28c8aa417d69cc509cc4d4b25bf7c903d09ce570f6bee015747d7ccc457'"
      ]
     },
     "execution_count": 36,
     "metadata": {},
     "output_type": "execute_result"
    }
   ],
   "source": [
    "hashBlock(fblock)"
   ]
  },
  {
   "cell_type": "code",
   "execution_count": 37,
   "metadata": {},
   "outputs": [],
   "source": [
    "\"\"\"Verification: helper methods..\"\"\"\n",
    "\n",
    "class Verification:\n",
    "    @staticmethod\n",
    "    def validProof(transactions, lastHash, proof):\n",
    "        guess = (str([tx.to_ordered_dict() for tx in transactions]) + str(lastHash) + str(proof)).encode()\n",
    "        _hash = hashString(guess)\n",
    "        return _hash[0:2] == '00'\n",
    "        \n",
    "    @classmethod\n",
    "    def verifyChain(cls, chain):\n",
    "        for (index, block) in enumerate(blockchain):\n",
    "            if index == 0:\n",
    "                continue\n",
    "            if block.previousHash != hashBlock(blockchain[index - 1]):\n",
    "                return False\n",
    "            if not cls.validProof(block.transactions[:-1], block.previousHash, block.proof):\n",
    "                print('Invalid proof of work')\n",
    "                return False\n",
    "        return True\n",
    "        \n"
   ]
  },
  {
   "cell_type": "code",
   "execution_count": 94,
   "metadata": {},
   "outputs": [],
   "source": [
    "\n",
    "\n",
    "class Blockchain:\n",
    "    def __init__(self):\n",
    "        genesis_block = Block(0, '', [], 0, 0)\n",
    "        self.chain = [genesis_block]\n",
    "        self.unconfirmedTransaction = []\n",
    "        self.REWAED = 10\n",
    "        \n",
    "    @property\n",
    "    def chain(self):\n",
    "        return self.__chain[:]\n",
    "\n",
    "    # The setter\n",
    "    @chain.setter\n",
    "    def chain(self, data):\n",
    "        self.__chain = data\n",
    "    \n",
    "    def proofOfWork(self):\n",
    "        last_block = self.__chain[-1]\n",
    "        lastHash = hashBlock(last_block)\n",
    "        proof = 0\n",
    "        while not Verification.validProof(self.unconfirmedTransaction, lastHash, proof):\n",
    "            proof += 1\n",
    "        return proof\n",
    "\n",
    "    \n",
    "    @property    \n",
    "    def unconfirmed(self):\n",
    "        return self.unconfirmedTransaction[:]\n",
    "\n",
    "\n",
    "    def lastChain(self):\n",
    "        if len(self.__chain) < 1:\n",
    "            return None\n",
    "        return self.__chain[-1]\n",
    "\n",
    "    \n",
    "    def addTransaction(self, receiver, sender, amount=0.90):\n",
    "        transaction = Transaction(sender, receiver, amount)\n",
    "        self.unconfirmedTransaction.append(transaction)\n",
    "        return True\n",
    "\n",
    "\n",
    "        \n",
    "    def addBlcok(self):\n",
    "        last_block = self.__chain[-1]\n",
    "        hashed_block = hashBlock(last_block)\n",
    "        proof = self.proofOfWork()\n",
    "\n",
    "        reward_transaction = Transaction(\n",
    "            'MINING', 'receiverAddress', self.REWAED)\n",
    "\n",
    "        copied_transactions = self.unconfirmedTransaction[:]\n",
    "\n",
    "        copied_transactions.append(reward_transaction)\n",
    "\n",
    "        block = Block(len(self.__chain), hashed_block, copied_transactions, proof)\n",
    "\n",
    "        block.hash = hashBlock(block)\n",
    "\n",
    "        self.__chain.append(block)\n",
    "        self.unconfirmedTransaction = []\n",
    "\n",
    "        return block\n",
    "    \n",
    "\n",
    "\n",
    "\n"
   ]
  },
  {
   "cell_type": "code",
   "execution_count": 86,
   "metadata": {},
   "outputs": [],
   "source": [
    "blockchain = Blockchain()"
   ]
  },
  {
   "cell_type": "code",
   "execution_count": 91,
   "metadata": {},
   "outputs": [
    {
     "data": {
      "text/plain": [
       "True"
      ]
     },
     "execution_count": 91,
     "metadata": {},
     "output_type": "execute_result"
    }
   ],
   "source": [
    "blockchain.addTransaction(\"Arry\", \"Salwa\", 19)"
   ]
  },
  {
   "cell_type": "code",
   "execution_count": 92,
   "metadata": {},
   "outputs": [
    {
     "data": {
      "text/plain": [
       "[{'sender': 'Salwa', 'receiver': 'Anwar', 'amount': 4},\n",
       " {'sender': 'Salwa', 'receiver': 'Adam', 'amount': 9},\n",
       " {'sender': 'Salwa', 'receiver': 'Arry', 'amount': 19}]"
      ]
     },
     "execution_count": 92,
     "metadata": {},
     "output_type": "execute_result"
    }
   ],
   "source": [
    "blockchain.unconfirmed"
   ]
  },
  {
   "cell_type": "code",
   "execution_count": 93,
   "metadata": {},
   "outputs": [
    {
     "data": {
      "text/plain": [
       "{'index': 1, 'previousHash': '817c94b3a53cf23a06afceb0cbfcd9c71eac120fbf89a47aba1ae8d170d08999', 'timestamp': 1613241245.108352, 'transactions': [{'sender': 'Salwa', 'receiver': 'Anwar', 'amount': 4}, {'sender': 'Salwa', 'receiver': 'Adam', 'amount': 9}, {'sender': 'Salwa', 'receiver': 'Arry', 'amount': 19}, {'sender': 'MINING', 'receiver': 'receiverAddress', 'amount': 10}], 'proof': 185, 'hash': 'e6a4e8e954e22f526c28a695f3b40453ac1861a517ae358b4331e5788472294c'}"
      ]
     },
     "execution_count": 93,
     "metadata": {},
     "output_type": "execute_result"
    }
   ],
   "source": [
    "blockchain.addBlcok()"
   ]
  },
  {
   "cell_type": "code",
   "execution_count": null,
   "metadata": {},
   "outputs": [],
   "source": []
  }
 ],
 "metadata": {
  "kernelspec": {
   "display_name": "Python 3",
   "language": "python",
   "name": "python3"
  },
  "language_info": {
   "codemirror_mode": {
    "name": "ipython",
    "version": 3
   },
   "file_extension": ".py",
   "mimetype": "text/x-python",
   "name": "python",
   "nbconvert_exporter": "python",
   "pygments_lexer": "ipython3",
   "version": "3.9.1"
  }
 },
 "nbformat": 4,
 "nbformat_minor": 4
}
